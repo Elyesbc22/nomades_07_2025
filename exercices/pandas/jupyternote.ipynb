{
 "cells": [
  {
   "cell_type": "code",
   "execution_count": 1,
   "id": "712c2cd8",
   "metadata": {},
   "outputs": [],
   "source": [
    "import pandas as pd\n",
    "import numpy as np\n",
    "\n",
    "# TODO: Exercice 1 - Lecture et exploration des données\n",
    "def load_and_explore_data(file_path=r\"..\\..\\data\\pandas\\winemag-data-130k-v2.csv\"):\n",
    "    \"\"\"\n",
    "    Charge le dataset et retourne des informations de base.\n",
    "    \n",
    "    Args:\n",
    "        file_path (str): Chemin vers le fichier CSV\n",
    "        \n",
    "    Returns:\n",
    "        tuple: (DataFrame, nombre de lignes, nombre de colonnes, liste des colonnes)\n",
    "    \"\"\"\n",
    "    # TODO: Charger le dataset avec la première colonne comme index\n",
    "    df = pd.read_csv(file_path)\n",
    "    df.set_index(0)\n",
    "    \n",
    "    \n",
    "    # TODO: Retourner le DataFrame, le nombre de lignes, colonnes et la liste des noms de colonnes\n",
    "    return "
   ]
  },
  {
   "cell_type": "code",
   "execution_count": 2,
   "id": "ebc5fedd",
   "metadata": {},
   "outputs": [
    {
     "data": {
      "text/html": [
       "<div>\n",
       "<style scoped>\n",
       "    .dataframe tbody tr th:only-of-type {\n",
       "        vertical-align: middle;\n",
       "    }\n",
       "\n",
       "    .dataframe tbody tr th {\n",
       "        vertical-align: top;\n",
       "    }\n",
       "\n",
       "    .dataframe thead th {\n",
       "        text-align: right;\n",
       "    }\n",
       "</style>\n",
       "<table border=\"1\" class=\"dataframe\">\n",
       "  <thead>\n",
       "    <tr style=\"text-align: right;\">\n",
       "      <th></th>\n",
       "      <th>Unnamed: 0</th>\n",
       "      <th>country</th>\n",
       "      <th>description</th>\n",
       "      <th>designation</th>\n",
       "      <th>points</th>\n",
       "      <th>price</th>\n",
       "      <th>province</th>\n",
       "      <th>region_1</th>\n",
       "      <th>region_2</th>\n",
       "      <th>taster_name</th>\n",
       "      <th>taster_twitter_handle</th>\n",
       "      <th>title</th>\n",
       "      <th>variety</th>\n",
       "      <th>winery</th>\n",
       "    </tr>\n",
       "  </thead>\n",
       "  <tbody>\n",
       "    <tr>\n",
       "      <th>0</th>\n",
       "      <td>0</td>\n",
       "      <td>Italy</td>\n",
       "      <td>Aromas include tropical fruit, broom, brimston...</td>\n",
       "      <td>Vulkà Bianco</td>\n",
       "      <td>87</td>\n",
       "      <td>NaN</td>\n",
       "      <td>Sicily &amp; Sardinia</td>\n",
       "      <td>Etna</td>\n",
       "      <td>NaN</td>\n",
       "      <td>Kerin O’Keefe</td>\n",
       "      <td>@kerinokeefe</td>\n",
       "      <td>Nicosia 2013 Vulkà Bianco  (Etna)</td>\n",
       "      <td>White Blend</td>\n",
       "      <td>Nicosia</td>\n",
       "    </tr>\n",
       "  </tbody>\n",
       "</table>\n",
       "</div>"
      ],
      "text/plain": [
       "   Unnamed: 0 country                                        description  \\\n",
       "0           0   Italy  Aromas include tropical fruit, broom, brimston...   \n",
       "\n",
       "    designation  points  price           province region_1 region_2  \\\n",
       "0  Vulkà Bianco      87    NaN  Sicily & Sardinia     Etna      NaN   \n",
       "\n",
       "     taster_name taster_twitter_handle                              title  \\\n",
       "0  Kerin O’Keefe          @kerinokeefe  Nicosia 2013 Vulkà Bianco  (Etna)   \n",
       "\n",
       "       variety   winery  \n",
       "0  White Blend  Nicosia  "
      ]
     },
     "execution_count": 2,
     "metadata": {},
     "output_type": "execute_result"
    }
   ],
   "source": [
    "df = pd.read_csv(r\"..\\..\\data\\pandas\\winemag-data-130k-v2.csv\")\n",
    "df.head(1)"
   ]
  },
  {
   "cell_type": "code",
   "execution_count": null,
   "id": "08ac318d",
   "metadata": {},
   "outputs": [
    {
     "data": {
      "text/plain": [
       "taster_name\n",
       "Roger Voss    25514\n",
       "Name: count, dtype: int64"
      ]
     },
     "execution_count": 24,
     "metadata": {},
     "output_type": "execute_result"
    }
   ],
   "source": [
    "df.taster_name.value_counts().head(1)"
   ]
  },
  {
   "cell_type": "code",
   "execution_count": 39,
   "id": "8ecbbf28",
   "metadata": {},
   "outputs": [],
   "source": [
    "df[\"price\"] = df.price.fillna(df.price.median())"
   ]
  },
  {
   "cell_type": "code",
   "execution_count": 50,
   "id": "01dbba8e",
   "metadata": {},
   "outputs": [
    {
     "data": {
      "text/plain": [
       "2416"
      ]
     },
     "execution_count": 50,
     "metadata": {},
     "output_type": "execute_result"
    }
   ],
   "source": [
    "df.loc[df.points >= 95].shape[0]"
   ]
  },
  {
   "cell_type": "code",
   "execution_count": 16,
   "id": "6126a761",
   "metadata": {},
   "outputs": [
    {
     "data": {
      "text/html": [
       "<div>\n",
       "<style scoped>\n",
       "    .dataframe tbody tr th:only-of-type {\n",
       "        vertical-align: middle;\n",
       "    }\n",
       "\n",
       "    .dataframe tbody tr th {\n",
       "        vertical-align: top;\n",
       "    }\n",
       "\n",
       "    .dataframe thead th {\n",
       "        text-align: right;\n",
       "    }\n",
       "</style>\n",
       "<table border=\"1\" class=\"dataframe\">\n",
       "  <thead>\n",
       "    <tr style=\"text-align: right;\">\n",
       "      <th></th>\n",
       "      <th>Unnamed: 0</th>\n",
       "      <th>country</th>\n",
       "      <th>description</th>\n",
       "      <th>designation</th>\n",
       "      <th>points</th>\n",
       "      <th>price</th>\n",
       "      <th>province</th>\n",
       "      <th>region_1</th>\n",
       "      <th>region_2</th>\n",
       "      <th>taster_name</th>\n",
       "      <th>taster_twitter_handle</th>\n",
       "      <th>title</th>\n",
       "      <th>variety</th>\n",
       "      <th>winery</th>\n",
       "    </tr>\n",
       "  </thead>\n",
       "  <tbody>\n",
       "    <tr>\n",
       "      <th>45401</th>\n",
       "      <td>45401</td>\n",
       "      <td>US</td>\n",
       "      <td>Comprised 100% of this rare variety, this wine...</td>\n",
       "      <td>Moonlight Sonata</td>\n",
       "      <td>85</td>\n",
       "      <td>75.0</td>\n",
       "      <td>California</td>\n",
       "      <td>Russian River Valley</td>\n",
       "      <td>Sonoma</td>\n",
       "      <td>Virginie Boone</td>\n",
       "      <td>@vboone</td>\n",
       "      <td>Cerridwen 2012 Moonlight Sonata Abouriou (Russ...</td>\n",
       "      <td>Abouriou</td>\n",
       "      <td>Cerridwen</td>\n",
       "    </tr>\n",
       "    <tr>\n",
       "      <th>98235</th>\n",
       "      <td>98235</td>\n",
       "      <td>France</td>\n",
       "      <td>Abouriou is a grape found almost exclusively i...</td>\n",
       "      <td>Just</td>\n",
       "      <td>87</td>\n",
       "      <td>15.0</td>\n",
       "      <td>Southwest France</td>\n",
       "      <td>Côtes du Marmandais</td>\n",
       "      <td>NaN</td>\n",
       "      <td>Roger Voss</td>\n",
       "      <td>@vossroger</td>\n",
       "      <td>Cave du Marmandais 2012 Just Abouriou (Côtes d...</td>\n",
       "      <td>Abouriou</td>\n",
       "      <td>Cave du Marmandais</td>\n",
       "    </tr>\n",
       "    <tr>\n",
       "      <th>129894</th>\n",
       "      <td>129894</td>\n",
       "      <td>France</td>\n",
       "      <td>Despite its proximity to Bordeaux, the Marmand...</td>\n",
       "      <td>NaN</td>\n",
       "      <td>91</td>\n",
       "      <td>15.0</td>\n",
       "      <td>Southwest France</td>\n",
       "      <td>Côtes du Marmandais</td>\n",
       "      <td>NaN</td>\n",
       "      <td>Roger Voss</td>\n",
       "      <td>@vossroger</td>\n",
       "      <td>Lionel Osmin &amp; Cie 2014 Abouriou (Côtes du Mar...</td>\n",
       "      <td>Abouriou</td>\n",
       "      <td>Lionel Osmin &amp; Cie</td>\n",
       "    </tr>\n",
       "  </tbody>\n",
       "</table>\n",
       "</div>"
      ],
      "text/plain": [
       "        Unnamed: 0 country                                        description  \\\n",
       "45401        45401      US  Comprised 100% of this rare variety, this wine...   \n",
       "98235        98235  France  Abouriou is a grape found almost exclusively i...   \n",
       "129894      129894  France  Despite its proximity to Bordeaux, the Marmand...   \n",
       "\n",
       "             designation  points  price          province  \\\n",
       "45401   Moonlight Sonata      85   75.0        California   \n",
       "98235               Just      87   15.0  Southwest France   \n",
       "129894               NaN      91   15.0  Southwest France   \n",
       "\n",
       "                    region_1 region_2     taster_name taster_twitter_handle  \\\n",
       "45401   Russian River Valley   Sonoma  Virginie Boone               @vboone   \n",
       "98235    Côtes du Marmandais      NaN      Roger Voss            @vossroger   \n",
       "129894   Côtes du Marmandais      NaN      Roger Voss            @vossroger   \n",
       "\n",
       "                                                    title   variety  \\\n",
       "45401   Cerridwen 2012 Moonlight Sonata Abouriou (Russ...  Abouriou   \n",
       "98235   Cave du Marmandais 2012 Just Abouriou (Côtes d...  Abouriou   \n",
       "129894  Lionel Osmin & Cie 2014 Abouriou (Côtes du Mar...  Abouriou   \n",
       "\n",
       "                    winery  \n",
       "45401            Cerridwen  \n",
       "98235   Cave du Marmandais  \n",
       "129894  Lionel Osmin & Cie  "
      ]
     },
     "execution_count": 16,
     "metadata": {},
     "output_type": "execute_result"
    }
   ],
   "source": [
    "df.loc[df.variety == \"Abouriou\"]"
   ]
  },
  {
   "cell_type": "code",
   "execution_count": 17,
   "id": "44c8dac8",
   "metadata": {},
   "outputs": [
    {
     "data": {
      "text/plain": [
       "variety\n",
       "Pinot Noir                  13272\n",
       "Chardonnay                  11753\n",
       "Cabernet Sauvignon           9472\n",
       "Red Blend                    8946\n",
       "Bordeaux-style Red Blend     6915\n",
       "Name: count, dtype: int64"
      ]
     },
     "execution_count": 17,
     "metadata": {},
     "output_type": "execute_result"
    }
   ],
   "source": [
    "df.variety.value_counts().head(5)"
   ]
  },
  {
   "cell_type": "code",
   "execution_count": null,
   "id": "3fb035a2",
   "metadata": {},
   "outputs": [],
   "source": []
  }
 ],
 "metadata": {
  "kernelspec": {
   "display_name": "mnlp-venv",
   "language": "python",
   "name": "python3"
  },
  "language_info": {
   "codemirror_mode": {
    "name": "ipython",
    "version": 3
   },
   "file_extension": ".py",
   "mimetype": "text/x-python",
   "name": "python",
   "nbconvert_exporter": "python",
   "pygments_lexer": "ipython3",
   "version": "3.10.12"
  }
 },
 "nbformat": 4,
 "nbformat_minor": 5
}
